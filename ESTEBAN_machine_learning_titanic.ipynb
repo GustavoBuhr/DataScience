{
 "cells": [
  {
   "cell_type": "markdown",
   "metadata": {},
   "source": [
    "# Notebook sobre machine learning aplicado al dataset de Titanic\n",
    "\n",
    "## Uso de clasificadores!"
   ]
  },
  {
   "cell_type": "code",
   "execution_count": 1,
   "metadata": {},
   "outputs": [],
   "source": [
    "import pandas as pd"
   ]
  },
  {
   "cell_type": "code",
   "execution_count": 2,
   "metadata": {},
   "outputs": [],
   "source": [
    "df_train = pd.read_csv(\"E:/GsB/DataScience/RepoMio/DataScience/titanic/train.csv\")\n",
    "df_test = pd.read_csv(\"E:/GsB/DataScience/RepoMio/DataScience/titanic/test.csv\")"
   ]
  },
  {
   "cell_type": "code",
   "execution_count": 3,
   "metadata": {},
   "outputs": [
    {
     "name": "stdout",
     "output_type": "stream",
     "text": [
      "(891, 12)\n",
      "(418, 11)\n"
     ]
    }
   ],
   "source": [
    "print(df_train.shape)\n",
    "print(df_test.shape)"
   ]
  },
  {
   "cell_type": "code",
   "execution_count": 4,
   "metadata": {},
   "outputs": [
    {
     "name": "stdout",
     "output_type": "stream",
     "text": [
      "<class 'pandas.core.frame.DataFrame'>\n",
      "RangeIndex: 891 entries, 0 to 890\n",
      "Data columns (total 12 columns):\n",
      "PassengerId    891 non-null int64\n",
      "Survived       891 non-null int64\n",
      "Pclass         891 non-null int64\n",
      "Name           891 non-null object\n",
      "Sex            891 non-null object\n",
      "Age            714 non-null float64\n",
      "SibSp          891 non-null int64\n",
      "Parch          891 non-null int64\n",
      "Ticket         891 non-null object\n",
      "Fare           891 non-null float64\n",
      "Cabin          204 non-null object\n",
      "Embarked       889 non-null object\n",
      "dtypes: float64(2), int64(5), object(5)\n",
      "memory usage: 83.6+ KB\n"
     ]
    }
   ],
   "source": [
    "df_train.info()"
   ]
  },
  {
   "cell_type": "markdown",
   "metadata": {},
   "source": [
    "### Acá elimino las características (columnas) que no me interesan"
   ]
  },
  {
   "cell_type": "code",
   "execution_count": 5,
   "metadata": {},
   "outputs": [],
   "source": [
    "drop_elements = ['PassengerId', 'Name', 'Ticket', 'Cabin', 'SibSp',\\\n",
    "                 'Parch']"
   ]
  },
  {
   "cell_type": "code",
   "execution_count": 6,
   "metadata": {},
   "outputs": [],
   "source": [
    "df_train = df_train.drop(drop_elements, axis = 1)\n",
    "df_test = df_test.drop(drop_elements, axis = 1)"
   ]
  },
  {
   "cell_type": "markdown",
   "metadata": {},
   "source": [
    "Como voy a trabajar con la característica \"Survived\", solo me interesa el dataset df_train. A partir de ahora hago la separación 80/20 para posterior entrenamiento y cálculo de error de mis modelos de clasificación"
   ]
  },
  {
   "cell_type": "code",
   "execution_count": 7,
   "metadata": {},
   "outputs": [],
   "source": [
    "from sklearn.model_selection import train_test_split"
   ]
  },
  {
   "cell_type": "markdown",
   "metadata": {},
   "source": [
    "### 1. Pclass vs Survived"
   ]
  },
  {
   "cell_type": "code",
   "execution_count": 8,
   "metadata": {},
   "outputs": [
    {
     "name": "stdout",
     "output_type": "stream",
     "text": [
      "0\n"
     ]
    }
   ],
   "source": [
    "print(df_train[\"Pclass\"].isna().sum())"
   ]
  },
  {
   "cell_type": "code",
   "execution_count": 9,
   "metadata": {},
   "outputs": [
    {
     "name": "stdout",
     "output_type": "stream",
     "text": [
      "0\n"
     ]
    }
   ],
   "source": [
    "print(df_train[\"Survived\"].isna().sum())"
   ]
  },
  {
   "cell_type": "code",
   "execution_count": 10,
   "metadata": {},
   "outputs": [
    {
     "name": "stdout",
     "output_type": "stream",
     "text": [
      "        Survived\n",
      "Pclass          \n",
      "1       0.629630\n",
      "2       0.472826\n",
      "3       0.242363\n"
     ]
    }
   ],
   "source": [
    "print(df_train[[\"Pclass\", \"Survived\"]].groupby([\"Pclass\"]).mean())"
   ]
  },
  {
   "cell_type": "markdown",
   "metadata": {},
   "source": [
    "### 2. Sex"
   ]
  },
  {
   "cell_type": "code",
   "execution_count": 11,
   "metadata": {},
   "outputs": [
    {
     "name": "stdout",
     "output_type": "stream",
     "text": [
      "        Survived\n",
      "Sex             \n",
      "female  0.742038\n",
      "male    0.188908\n"
     ]
    }
   ],
   "source": [
    "print(df_train[[\"Sex\", \"Survived\"]].groupby([\"Sex\"]).mean())"
   ]
  },
  {
   "cell_type": "markdown",
   "metadata": {},
   "source": [
    "## A partir de acá empiezo la transformación de los datos"
   ]
  },
  {
   "cell_type": "code",
   "execution_count": 12,
   "metadata": {},
   "outputs": [],
   "source": [
    "def mapping_sex(df):\n",
    "    df = df.map({\"female\": 0, \"male\": 1}).astype(int)\n",
    "    return df"
   ]
  },
  {
   "cell_type": "code",
   "execution_count": 13,
   "metadata": {},
   "outputs": [],
   "source": [
    "df_train[\"Sex\"] = mapping_sex(df_train[\"Sex\"])"
   ]
  },
  {
   "cell_type": "code",
   "execution_count": 14,
   "metadata": {},
   "outputs": [],
   "source": [
    "df_test[\"Sex\"] = mapping_sex(df_test[\"Sex\"])"
   ]
  },
  {
   "cell_type": "code",
   "execution_count": 15,
   "metadata": {},
   "outputs": [
    {
     "data": {
      "text/html": [
       "<div>\n",
       "<style scoped>\n",
       "    .dataframe tbody tr th:only-of-type {\n",
       "        vertical-align: middle;\n",
       "    }\n",
       "\n",
       "    .dataframe tbody tr th {\n",
       "        vertical-align: top;\n",
       "    }\n",
       "\n",
       "    .dataframe thead th {\n",
       "        text-align: right;\n",
       "    }\n",
       "</style>\n",
       "<table border=\"1\" class=\"dataframe\">\n",
       "  <thead>\n",
       "    <tr style=\"text-align: right;\">\n",
       "      <th></th>\n",
       "      <th>Survived</th>\n",
       "      <th>Pclass</th>\n",
       "      <th>Sex</th>\n",
       "      <th>Age</th>\n",
       "      <th>Fare</th>\n",
       "      <th>Embarked</th>\n",
       "    </tr>\n",
       "  </thead>\n",
       "  <tbody>\n",
       "    <tr>\n",
       "      <th>0</th>\n",
       "      <td>0</td>\n",
       "      <td>3</td>\n",
       "      <td>1</td>\n",
       "      <td>22.0</td>\n",
       "      <td>7.2500</td>\n",
       "      <td>S</td>\n",
       "    </tr>\n",
       "    <tr>\n",
       "      <th>1</th>\n",
       "      <td>1</td>\n",
       "      <td>1</td>\n",
       "      <td>0</td>\n",
       "      <td>38.0</td>\n",
       "      <td>71.2833</td>\n",
       "      <td>C</td>\n",
       "    </tr>\n",
       "    <tr>\n",
       "      <th>2</th>\n",
       "      <td>1</td>\n",
       "      <td>3</td>\n",
       "      <td>0</td>\n",
       "      <td>26.0</td>\n",
       "      <td>7.9250</td>\n",
       "      <td>S</td>\n",
       "    </tr>\n",
       "  </tbody>\n",
       "</table>\n",
       "</div>"
      ],
      "text/plain": [
       "   Survived  Pclass  Sex   Age     Fare Embarked\n",
       "0         0       3    1  22.0   7.2500        S\n",
       "1         1       1    0  38.0  71.2833        C\n",
       "2         1       3    0  26.0   7.9250        S"
      ]
     },
     "execution_count": 15,
     "metadata": {},
     "output_type": "execute_result"
    }
   ],
   "source": [
    "df_train.head(3)"
   ]
  },
  {
   "cell_type": "code",
   "execution_count": 106,
   "metadata": {},
   "outputs": [
    {
     "data": {
      "text/plain": [
       "(714, 6)"
      ]
     },
     "execution_count": 106,
     "metadata": {},
     "output_type": "execute_result"
    }
   ],
   "source": [
    "df_train.dropna(subset=['Age'], inplace=True)\n",
    "df_train.shape"
   ]
  },
  {
   "cell_type": "code",
   "execution_count": 176,
   "metadata": {},
   "outputs": [
    {
     "data": {
      "text/plain": [
       "False"
      ]
     },
     "execution_count": 176,
     "metadata": {},
     "output_type": "execute_result"
    }
   ],
   "source": [
    "df_train.Fare.isnull().any()"
   ]
  },
  {
   "cell_type": "markdown",
   "metadata": {},
   "source": [
    "## A partir de acá empiezo la aplicación de clasificadores"
   ]
  },
  {
   "cell_type": "code",
   "execution_count": 16,
   "metadata": {},
   "outputs": [],
   "source": [
    "import matplotlib.pyplot as plt\n",
    "import seaborn as sns\n",
    "from sklearn.neighbors import KNeighborsClassifier\n",
    "import numpy as np"
   ]
  },
  {
   "cell_type": "markdown",
   "metadata": {},
   "source": [
    "En primera instancia, se definirá un clasificador cuyo objetivo es predecir si sobrevivió o no un pasajero del titanic en función de su Pclass y Sex."
   ]
  },
  {
   "cell_type": "code",
   "execution_count": 192,
   "metadata": {},
   "outputs": [],
   "source": [
    "#X = df_train.drop([\"Survived\", \"Age\", \"Fare\", \"Embarked\"], axis=1)\n",
    "X = df_train.drop([\"Survived\", \"Embarked\"], axis=1)\n",
    "y = pd.DataFrame(data=df_train[\"Survived\"])\n",
    "y = np.ravel(y)\n",
    "X_train, X_test, y_train, y_test = train_test_split(X, y, test_size=0.33, random_state=42)\n",
    "#X_test = df_test.drop([\"Survived\", \"Age\", \"Fare\", \"Embarked\"], axis=1)"
   ]
  },
  {
   "cell_type": "code",
   "execution_count": 186,
   "metadata": {},
   "outputs": [],
   "source": [
    "neigh = KNeighborsClassifier(n_neighbors=5)"
   ]
  },
  {
   "cell_type": "code",
   "execution_count": 155,
   "metadata": {},
   "outputs": [
    {
     "data": {
      "text/plain": [
       "KNeighborsClassifier(algorithm='auto', leaf_size=30, metric='minkowski',\n",
       "           metric_params=None, n_jobs=None, n_neighbors=5, p=2,\n",
       "           weights='uniform')"
      ]
     },
     "execution_count": 155,
     "metadata": {},
     "output_type": "execute_result"
    }
   ],
   "source": [
    "neigh.fit(X_train, y_train)"
   ]
  },
  {
   "cell_type": "code",
   "execution_count": 156,
   "metadata": {},
   "outputs": [],
   "source": [
    "y_pred = neigh.predict(X_test)"
   ]
  },
  {
   "cell_type": "code",
   "execution_count": 157,
   "metadata": {},
   "outputs": [
    {
     "data": {
      "text/plain": [
       "array([0, 1, 1, 1, 0, 0, 0, 0, 1, 1, 1, 1, 0, 0, 1, 0, 0, 1, 0, 1, 1, 1,\n",
       "       0, 1, 0, 0, 0, 0, 1, 0, 0, 0, 1, 0, 0, 0, 0, 0, 0, 0, 0, 0, 1, 0,\n",
       "       1, 1, 0, 0, 1, 1, 1, 1, 1, 0, 0, 1, 1, 0, 0, 0, 0, 0, 0, 0, 0, 0,\n",
       "       1, 1, 0, 1, 0, 0, 0, 0, 0, 0, 0, 0, 0, 1, 0, 0, 0, 0, 0, 0, 0, 0,\n",
       "       0, 0, 0, 1, 1, 1, 0, 0, 1, 0, 0, 0, 1, 1, 0, 1, 1, 0, 0, 1, 0, 1,\n",
       "       0, 0, 0, 1, 0, 0, 0, 0, 1, 0, 1, 0, 0, 0, 1, 0, 0, 1, 1, 1, 0, 0,\n",
       "       0, 0, 0, 0, 0, 1, 0, 0, 0, 0, 1, 0, 0, 0, 0, 0, 1, 0, 0, 0, 0, 1,\n",
       "       0, 0, 0, 0, 1, 1, 0, 0, 0, 1, 0, 1, 1, 0, 1, 0, 0, 1, 0, 1, 1, 1,\n",
       "       0, 0, 0, 0, 1, 0, 1, 1, 0, 0, 1, 1, 0, 1, 0, 0, 1, 0, 1, 1, 0, 0,\n",
       "       1, 0, 0, 0, 0, 1, 0, 0, 1, 0, 0, 1, 0, 0, 0, 0, 0, 0, 1, 0, 0, 1,\n",
       "       1, 0, 0, 0, 0, 1, 0, 0, 1, 0, 0, 1, 0, 0, 0, 0], dtype=int64)"
      ]
     },
     "execution_count": 157,
     "metadata": {},
     "output_type": "execute_result"
    }
   ],
   "source": [
    "y_pred"
   ]
  },
  {
   "cell_type": "code",
   "execution_count": 158,
   "metadata": {},
   "outputs": [],
   "source": [
    "from sklearn.metrics import confusion_matrix"
   ]
  },
  {
   "cell_type": "code",
   "execution_count": 159,
   "metadata": {},
   "outputs": [
    {
     "data": {
      "text/plain": [
       "array([[115,  22],\n",
       "       [ 42,  57]], dtype=int64)"
      ]
     },
     "execution_count": 159,
     "metadata": {},
     "output_type": "execute_result"
    }
   ],
   "source": [
    "#confusion_matrix(y_test, y_pred, labels=None, sample_weight=None)\n",
    "confusion_matrix(y_test, y_pred)"
   ]
  },
  {
   "cell_type": "code",
   "execution_count": 193,
   "metadata": {},
   "outputs": [],
   "source": [
    "from sklearn.model_selection import GridSearchCV\n",
    "neigh = KNeighborsClassifier()\n",
    "param_grid = [\n",
    "    {'n_neighbors': [2, 3, 4, 5, 6, 7, 8, 10, 20], 'algorithm': ['ball_tree', 'kd_tree', 'brute', 'auto'],\n",
    "    'weights': ['uniform', 'distance']},\n",
    "]\n",
    "grid_search = GridSearchCV(neigh, param_grid, cv=10,scoring='neg_mean_squared_error', return_train_score=True)"
   ]
  },
  {
   "cell_type": "code",
   "execution_count": 197,
   "metadata": {},
   "outputs": [
    {
     "ename": "SyntaxError",
     "evalue": "invalid syntax (<ipython-input-197-c3d63442c1cd>, line 1)",
     "output_type": "error",
     "traceback": [
      "\u001b[1;36m  File \u001b[1;32m\"<ipython-input-197-c3d63442c1cd>\"\u001b[1;36m, line \u001b[1;32m1\u001b[0m\n\u001b[1;33m    grid_search.fit(X_train, y_train)A\u001b[0m\n\u001b[1;37m                                     ^\u001b[0m\n\u001b[1;31mSyntaxError\u001b[0m\u001b[1;31m:\u001b[0m invalid syntax\n"
     ]
    }
   ],
   "source": [
    "grid_search.fit(X_train, y_train)"
   ]
  },
  {
   "cell_type": "code",
   "execution_count": 189,
   "metadata": {},
   "outputs": [
    {
     "data": {
      "text/plain": [
       "{'algorithm': 'kd_tree', 'n_neighbors': 7, 'weights': 'distance'}"
      ]
     },
     "execution_count": 189,
     "metadata": {},
     "output_type": "execute_result"
    }
   ],
   "source": [
    "grid_search.best_params_"
   ]
  },
  {
   "cell_type": "code",
   "execution_count": 195,
   "metadata": {},
   "outputs": [],
   "source": [
    "y_pred = grid_search.best_estimator_.predict(X_test)"
   ]
  },
  {
   "cell_type": "code",
   "execution_count": 199,
   "metadata": {},
   "outputs": [
    {
     "data": {
      "text/plain": [
       "array([[0.        , 1.        ],\n",
       "       [0.        , 1.        ],\n",
       "       [0.        , 1.        ],\n",
       "       [0.        , 1.        ],\n",
       "       [1.        , 0.        ],\n",
       "       [0.71301005, 0.28698995],\n",
       "       [0.66628179, 0.33371821],\n",
       "       [0.62255851, 0.37744149],\n",
       "       [0.52828439, 0.47171561],\n",
       "       [0.26198936, 0.73801064],\n",
       "       [0.28739836, 0.71260164],\n",
       "       [0.36602514, 0.63397486],\n",
       "       [0.        , 1.        ],\n",
       "       [0.78603869, 0.21396131],\n",
       "       [0.49478145, 0.50521855],\n",
       "       [1.        , 0.        ],\n",
       "       [0.77678054, 0.22321946],\n",
       "       [0.25331827, 0.74668173],\n",
       "       [0.48813178, 0.51186822],\n",
       "       [0.74133103, 0.25866897],\n",
       "       [0.87202679, 0.12797321],\n",
       "       [0.21873051, 0.78126949],\n",
       "       [0.22186198, 0.77813802],\n",
       "       [0.49478538, 0.50521462],\n",
       "       [1.        , 0.        ],\n",
       "       [0.82692065, 0.17307935],\n",
       "       [0.57037713, 0.42962287],\n",
       "       [0.58290637, 0.41709363],\n",
       "       [0.31060025, 0.68939975],\n",
       "       [0.7856869 , 0.2143131 ],\n",
       "       [1.        , 0.        ],\n",
       "       [0.65990211, 0.34009789],\n",
       "       [0.10760778, 0.89239222],\n",
       "       [1.        , 0.        ],\n",
       "       [0.88056933, 0.11943067],\n",
       "       [0.5330382 , 0.4669618 ],\n",
       "       [0.22546501, 0.77453499],\n",
       "       [1.        , 0.        ],\n",
       "       [1.        , 0.        ],\n",
       "       [0.95350147, 0.04649853],\n",
       "       [0.67125637, 0.32874363],\n",
       "       [0.79831715, 0.20168285],\n",
       "       [0.        , 1.        ],\n",
       "       [0.7880405 , 0.2119595 ],\n",
       "       [0.14840003, 0.85159997],\n",
       "       [0.75278174, 0.24721826],\n",
       "       [0.34621933, 0.65378067],\n",
       "       [0.53066354, 0.46933646],\n",
       "       [1.        , 0.        ],\n",
       "       [1.        , 0.        ],\n",
       "       [0.05749009, 0.94250991],\n",
       "       [0.        , 1.        ],\n",
       "       [0.15464549, 0.84535451],\n",
       "       [0.66536405, 0.33463595],\n",
       "       [0.93679763, 0.06320237],\n",
       "       [0.89055587, 0.10944413],\n",
       "       [0.38418773, 0.61581227],\n",
       "       [0.77132997, 0.22867003],\n",
       "       [0.98530441, 0.01469559],\n",
       "       [0.68955222, 0.31044778],\n",
       "       [1.        , 0.        ],\n",
       "       [1.        , 0.        ],\n",
       "       [1.        , 0.        ],\n",
       "       [0.82692065, 0.17307935],\n",
       "       [0.84985279, 0.15014721],\n",
       "       [0.36631158, 0.63368842],\n",
       "       [0.        , 1.        ],\n",
       "       [0.21410693, 0.78589307],\n",
       "       [0.94226598, 0.05773402],\n",
       "       [1.        , 0.        ],\n",
       "       [0.82692065, 0.17307935],\n",
       "       [0.10499869, 0.89500131],\n",
       "       [0.71767019, 0.28232981],\n",
       "       [0.82668213, 0.17331787],\n",
       "       [0.8266771 , 0.1733229 ],\n",
       "       [0.79831715, 0.20168285],\n",
       "       [0.84985279, 0.15014721],\n",
       "       [0.95703481, 0.04296519],\n",
       "       [1.        , 0.        ],\n",
       "       [0.19584538, 0.80415462],\n",
       "       [0.51057144, 0.48942856],\n",
       "       [0.34319112, 0.65680888],\n",
       "       [0.82098159, 0.17901841],\n",
       "       [0.68260607, 0.31739393],\n",
       "       [1.        , 0.        ],\n",
       "       [0.6909282 , 0.3090718 ],\n",
       "       [0.5821599 , 0.4178401 ],\n",
       "       [0.89872323, 0.10127677],\n",
       "       [0.90081351, 0.09918649],\n",
       "       [1.        , 0.        ],\n",
       "       [1.        , 0.        ],\n",
       "       [0.18678586, 0.81321414],\n",
       "       [0.        , 1.        ],\n",
       "       [0.60231885, 0.39768115],\n",
       "       [0.51364216, 0.48635784],\n",
       "       [0.20880332, 0.79119668],\n",
       "       [0.58037606, 0.41962394],\n",
       "       [0.25043342, 0.74956658],\n",
       "       [1.        , 0.        ],\n",
       "       [0.83125118, 0.16874882],\n",
       "       [0.        , 1.        ],\n",
       "       [0.34255479, 0.65744521],\n",
       "       [0.99637031, 0.00362969],\n",
       "       [0.        , 1.        ],\n",
       "       [0.39050105, 0.60949895],\n",
       "       [1.        , 0.        ],\n",
       "       [0.78245694, 0.21754306],\n",
       "       [0.10636486, 0.89363514],\n",
       "       [0.94720099, 0.05279901],\n",
       "       [1.        , 0.        ],\n",
       "       [0.08688848, 0.91311152],\n",
       "       [1.        , 0.        ],\n",
       "       [0.58916232, 0.41083768],\n",
       "       [0.71757084, 0.28242916],\n",
       "       [1.        , 0.        ],\n",
       "       [0.31552832, 0.68447168],\n",
       "       [0.50275361, 0.49724639],\n",
       "       [0.33699229, 0.66300771],\n",
       "       [0.40288526, 0.59711474],\n",
       "       [0.90504264, 0.09495736],\n",
       "       [0.47195021, 0.52804979],\n",
       "       [0.91744008, 0.08255992],\n",
       "       [0.40655783, 0.59344217],\n",
       "       [0.78245694, 0.21754306],\n",
       "       [0.2087757 , 0.7912243 ],\n",
       "       [1.        , 0.        ],\n",
       "       [0.89416579, 0.10583421],\n",
       "       [0.80791412, 0.19208588],\n",
       "       [0.18815422, 0.81184578],\n",
       "       [1.        , 0.        ],\n",
       "       [1.        , 0.        ],\n",
       "       [0.92294826, 0.07705174],\n",
       "       [0.63126288, 0.36873712],\n",
       "       [0.83675568, 0.16324432],\n",
       "       [0.        , 1.        ],\n",
       "       [1.        , 0.        ],\n",
       "       [1.        , 0.        ],\n",
       "       [0.53511363, 0.46488637],\n",
       "       [0.73961882, 0.26038118],\n",
       "       [0.46590434, 0.53409566],\n",
       "       [1.        , 0.        ],\n",
       "       [1.        , 0.        ],\n",
       "       [0.33387318, 0.66612682],\n",
       "       [0.73816713, 0.26183287],\n",
       "       [1.        , 0.        ],\n",
       "       [0.78787055, 0.21212945],\n",
       "       [1.        , 0.        ],\n",
       "       [1.        , 0.        ],\n",
       "       [0.67118563, 0.32881437],\n",
       "       [1.        , 0.        ],\n",
       "       [0.57639557, 0.42360443],\n",
       "       [1.        , 0.        ],\n",
       "       [1.        , 0.        ],\n",
       "       [0.33688229, 0.66311771],\n",
       "       [0.56549393, 0.43450607],\n",
       "       [0.94753531, 0.05246469],\n",
       "       [0.62439655, 0.37560345],\n",
       "       [0.32630253, 0.67369747],\n",
       "       [0.71514806, 0.28485194],\n",
       "       [0.64797473, 0.35202527],\n",
       "       [0.79376292, 0.20623708],\n",
       "       [0.94753531, 0.05246469],\n",
       "       [0.38411148, 0.61588852],\n",
       "       [0.0334217 , 0.9665783 ],\n",
       "       [1.        , 0.        ],\n",
       "       [1.        , 0.        ],\n",
       "       [0.127364  , 0.872636  ],\n",
       "       [0.7211145 , 0.2788855 ],\n",
       "       [0.11481297, 0.88518703],\n",
       "       [1.        , 0.        ],\n",
       "       [1.        , 0.        ],\n",
       "       [0.34255479, 0.65744521],\n",
       "       [0.95322314, 0.04677686],\n",
       "       [0.63385351, 0.36614649],\n",
       "       [0.45427174, 0.54572826],\n",
       "       [0.13386685, 0.86613315],\n",
       "       [0.87223618, 0.12776382],\n",
       "       [1.        , 0.        ],\n",
       "       [0.69471907, 0.30528093],\n",
       "       [1.        , 0.        ],\n",
       "       [0.16555533, 0.83444467],\n",
       "       [0.18569467, 0.81430533],\n",
       "       [0.49401124, 0.50598876],\n",
       "       [0.46921166, 0.53078834],\n",
       "       [1.        , 0.        ],\n",
       "       [0.71043452, 0.28956548],\n",
       "       [0.64035699, 0.35964301],\n",
       "       [0.49483947, 0.50516053],\n",
       "       [0.82085725, 0.17914275],\n",
       "       [0.71776694, 0.28223306],\n",
       "       [0.        , 1.        ],\n",
       "       [0.        , 1.        ],\n",
       "       [0.61619571, 0.38380429],\n",
       "       [0.89212216, 0.10787784],\n",
       "       [0.32775172, 0.67224828],\n",
       "       [0.20966814, 0.79033186],\n",
       "       [0.98346098, 0.01653902],\n",
       "       [0.82486109, 0.17513891],\n",
       "       [0.27231654, 0.72768346],\n",
       "       [0.82593328, 0.17406672],\n",
       "       [0.83463746, 0.16536254],\n",
       "       [0.77205519, 0.22794481],\n",
       "       [1.        , 0.        ],\n",
       "       [0.        , 1.        ],\n",
       "       [0.54602138, 0.45397862],\n",
       "       [0.63407533, 0.36592467],\n",
       "       [0.42923972, 0.57076028],\n",
       "       [0.73850214, 0.26149786],\n",
       "       [1.        , 0.        ],\n",
       "       [0.14087965, 0.85912035],\n",
       "       [1.        , 0.        ],\n",
       "       [0.70931077, 0.29068923],\n",
       "       [0.        , 1.        ],\n",
       "       [0.76863299, 0.23136701],\n",
       "       [1.        , 0.        ],\n",
       "       [1.        , 0.        ],\n",
       "       [0.58875884, 0.41124116],\n",
       "       [0.63972329, 0.36027671],\n",
       "       [0.85340631, 0.14659369],\n",
       "       [0.71401709, 0.28598291],\n",
       "       [0.71877614, 0.28122386],\n",
       "       [0.93679763, 0.06320237],\n",
       "       [0.52545704, 0.47454296],\n",
       "       [0.67901436, 0.32098564],\n",
       "       [0.70314142, 0.29685858],\n",
       "       [0.66161977, 0.33838023],\n",
       "       [0.48813178, 0.51186822],\n",
       "       [1.        , 0.        ],\n",
       "       [0.615234  , 0.384766  ],\n",
       "       [0.48953582, 0.51046418],\n",
       "       [0.5       , 0.5       ],\n",
       "       [0.        , 1.        ],\n",
       "       [1.        , 0.        ],\n",
       "       [0.50190185, 0.49809815],\n",
       "       [0.13698249, 0.86301751],\n",
       "       [0.80079376, 0.19920624]])"
      ]
     },
     "execution_count": 199,
     "metadata": {},
     "output_type": "execute_result"
    }
   ],
   "source": [
    "y_pred = grid_search.best_estimator_.predict_proba(X_test)\n",
    "y_pred"
   ]
  },
  {
   "cell_type": "code",
   "execution_count": 191,
   "metadata": {},
   "outputs": [
    {
     "data": {
      "text/plain": [
       "array([-0.13574881, -0.08670327, -0.13273148, -0.08066107, -0.16387812,\n",
       "       -0.07996502, -0.15132482, -0.07880168, -0.17992682, -0.07856912,\n",
       "       -0.16457417, -0.07856912, -0.19177324, -0.07856912, -0.21548016,\n",
       "       -0.07856912, -0.27104547, -0.07856912, -0.13574881, -0.08670327,\n",
       "       -0.13389319, -0.08066107, -0.16620317, -0.07996502, -0.15434917,\n",
       "       -0.07880168, -0.18108853, -0.07856912, -0.16782783, -0.07856912,\n",
       "       -0.19363372, -0.07856912, -0.21385441, -0.07856912, -0.26755547,\n",
       "       -0.07856912, -0.1403989 , -0.08577358, -0.12622362, -0.07856912,\n",
       "       -0.16155901, -0.08066053, -0.14994027, -0.07856912, -0.18248927,\n",
       "       -0.07856912, -0.17364666, -0.07856912, -0.19666077, -0.07856912,\n",
       "       -0.20967216, -0.07856912, -0.26220122, -0.07856912, -0.13574881,\n",
       "       -0.08670327, -0.13389319, -0.08066107, -0.16620317, -0.07996502,\n",
       "       -0.15434917, -0.07880168, -0.18108853, -0.07856912, -0.16782783,\n",
       "       -0.07856912, -0.19363372, -0.07856912, -0.21385441, -0.07856912,\n",
       "       -0.26755547, -0.07856912])"
      ]
     },
     "execution_count": 191,
     "metadata": {},
     "output_type": "execute_result"
    }
   ],
   "source": [
    "grid_search.cv_results_['mean_train_score']"
   ]
  },
  {
   "cell_type": "code",
   "execution_count": 196,
   "metadata": {},
   "outputs": [
    {
     "data": {
      "text/plain": [
       "(0.6649077923462318, 0.6694915254237288, 0.6611171552908841, None)"
      ]
     },
     "execution_count": 196,
     "metadata": {},
     "output_type": "execute_result"
    }
   ],
   "source": [
    "from sklearn.metrics import precision_recall_fscore_support\n",
    "precision_recall_fscore_support(y_test, y_pred, average='weighted')"
   ]
  },
  {
   "cell_type": "code",
   "execution_count": 23,
   "metadata": {},
   "outputs": [],
   "source": [
    "def plot_confusion_matrix(y_true, y_pred, classes,\n",
    "                          normalize=False,\n",
    "                          title=None,\n",
    "                          cmap=plt.cm.Blues):\n",
    "    \"\"\"\n",
    "    This function prints and plots the confusion matrix.\n",
    "    Normalization can be applied by setting `normalize=True`.\n",
    "    \"\"\"\n",
    "    if not title:\n",
    "        if normalize:\n",
    "            title = 'Normalized confusion matrix'\n",
    "        else:\n",
    "            title = 'Confusion matrix, without normalization'\n",
    "\n",
    "    # Compute confusion matrix\n",
    "    cm = confusion_matrix(y_true, y_pred)\n",
    "    print(cm)\n",
    "\n",
    "    fig, ax = plt.subplots()\n",
    "    im = ax.imshow(cm, interpolation='nearest', cmap=cmap)\n",
    "    ax.figure.colorbar(im, ax=ax)\n",
    "    # We want to show all ticks...\n",
    "    ax.set(xticks=np.arange(cm.shape[1]),\n",
    "           yticks=np.arange(cm.shape[0]),\n",
    "           # ... and label them with the respective list entries\n",
    "           xticklabels=classes, yticklabels=classes,\n",
    "           title=title,\n",
    "           ylabel='True label',\n",
    "           xlabel='Predicted label')\n",
    "\n",
    "    # Rotate the tick labels and set their alignment.\n",
    "    plt.setp(ax.get_xticklabels(), rotation=45, ha=\"right\",\n",
    "             rotation_mode=\"anchor\")\n",
    "\n",
    "    # Loop over data dimensions and create text annotations.\n",
    "    fmt = '.2f' if normalize else 'd'\n",
    "    thresh = cm.max() / 2.\n",
    "    for i in range(cm.shape[0]):\n",
    "        for j in range(cm.shape[1]):\n",
    "            ax.text(j, i, format(cm[i, j], fmt),\n",
    "                    ha=\"center\", va=\"center\",\n",
    "                    color=\"white\" if cm[i, j] > thresh else \"black\")\n",
    "    fig.tight_layout()\n",
    "    return ax"
   ]
  },
  {
   "cell_type": "code",
   "execution_count": 24,
   "metadata": {},
   "outputs": [
    {
     "name": "stdout",
     "output_type": "stream",
     "text": [
      "[[170   5]\n",
      " [ 62  58]]\n"
     ]
    },
    {
     "data": {
      "text/plain": [
       "<matplotlib.axes._subplots.AxesSubplot at 0x25a15a14828>"
      ]
     },
     "execution_count": 24,
     "metadata": {},
     "output_type": "execute_result"
    },
    {
     "data": {
      "image/png": "[encoded data removed]",
      "text/plain": [
       "<Figure size 432x288 with 2 Axes>"
      ]
     },
     "metadata": {
      "needs_background": "light"
     },
     "output_type": "display_data"
    }
   ],
   "source": [
    "class_names = [\"Survived\", \"Not survived\"]\n",
    "plot_confusion_matrix(y_test, y_pred, classes=class_names,\n",
    "                      title='Matriz de confusión')"
   ]
  }
 ],
 "metadata": {
  "kernelspec": {
   "display_name": "Python 3",
   "language": "python",
   "name": "python3"
  },
  "language_info": {
   "codemirror_mode": {
    "name": "ipython",
    "version": 3
   },
   "file_extension": ".py",
   "mimetype": "text/x-python",
   "name": "python",
   "nbconvert_exporter": "python",
   "pygments_lexer": "ipython3",
   "version": "3.7.1"
  }
 },
 "nbformat": 4,
 "nbformat_minor": 2
}
